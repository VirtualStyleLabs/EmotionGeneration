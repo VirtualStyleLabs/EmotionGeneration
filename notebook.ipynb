{
 "cells": [
  {
   "cell_type": "code",
   "execution_count": null,
   "metadata": {},
   "outputs": [],
   "source": [
    "import cv2\n",
    "import os\n",
    "\n",
    "path = './Dataset/Train/'\n",
    "folders=os.listdir(path)\n",
    "for folder in folders:\n",
    "    os.makedirs(path+folder,exist_ok=True)\n",
    "    for img in os.listdir(path+folder):\n",
    "        i = cv2.imread(os.path.join(path,folder,img))\n",
    "        cv2.imwrite(os.path.join(path,folder,img),cv2.resize(i,(256,256),interpolation=cv2.INTER_CUBIC))"
   ]
  }
 ],
 "metadata": {
  "kernelspec": {
   "display_name": "Python 3",
   "language": "python",
   "name": "python3"
  },
  "language_info": {
   "codemirror_mode": {
    "name": "ipython",
    "version": 3
   },
   "file_extension": ".py",
   "mimetype": "text/x-python",
   "name": "python",
   "nbconvert_exporter": "python",
   "pygments_lexer": "ipython3",
   "version": "3.12.5"
  }
 },
 "nbformat": 4,
 "nbformat_minor": 2
}
